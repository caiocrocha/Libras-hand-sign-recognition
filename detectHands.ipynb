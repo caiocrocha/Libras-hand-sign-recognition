{
 "cells": [
  {
   "cell_type": "code",
   "execution_count": 1,
   "metadata": {},
   "outputs": [
    {
     "name": "stdout",
     "output_type": "stream",
     "text": [
      "Requirement already satisfied: mediapipe in /home/caio/miniconda3/envs/science/lib/python3.11/site-packages (0.10.7)\n",
      "Requirement already satisfied: absl-py in /home/caio/miniconda3/envs/science/lib/python3.11/site-packages (from mediapipe) (2.0.0)\n",
      "Requirement already satisfied: attrs>=19.1.0 in /home/caio/miniconda3/envs/science/lib/python3.11/site-packages (from mediapipe) (23.1.0)\n",
      "Requirement already satisfied: flatbuffers>=2.0 in /home/caio/miniconda3/envs/science/lib/python3.11/site-packages (from mediapipe) (23.5.26)\n",
      "Requirement already satisfied: matplotlib in /home/caio/miniconda3/envs/science/lib/python3.11/site-packages (from mediapipe) (3.7.2)\n",
      "Requirement already satisfied: numpy in /home/caio/miniconda3/envs/science/lib/python3.11/site-packages (from mediapipe) (1.25.1)\n",
      "Requirement already satisfied: opencv-contrib-python in /home/caio/miniconda3/envs/science/lib/python3.11/site-packages (from mediapipe) (4.8.1.78)\n",
      "Requirement already satisfied: protobuf<4,>=3.11 in /home/caio/miniconda3/envs/science/lib/python3.11/site-packages (from mediapipe) (3.20.3)\n",
      "Requirement already satisfied: sounddevice>=0.4.4 in /home/caio/miniconda3/envs/science/lib/python3.11/site-packages (from mediapipe) (0.4.6)\n",
      "Requirement already satisfied: CFFI>=1.0 in /home/caio/miniconda3/envs/science/lib/python3.11/site-packages (from sounddevice>=0.4.4->mediapipe) (1.15.1)\n",
      "Requirement already satisfied: contourpy>=1.0.1 in /home/caio/miniconda3/envs/science/lib/python3.11/site-packages (from matplotlib->mediapipe) (1.1.0)\n",
      "Requirement already satisfied: cycler>=0.10 in /home/caio/miniconda3/envs/science/lib/python3.11/site-packages (from matplotlib->mediapipe) (0.11.0)\n",
      "Requirement already satisfied: fonttools>=4.22.0 in /home/caio/miniconda3/envs/science/lib/python3.11/site-packages (from matplotlib->mediapipe) (4.41.0)\n",
      "Requirement already satisfied: kiwisolver>=1.0.1 in /home/caio/miniconda3/envs/science/lib/python3.11/site-packages (from matplotlib->mediapipe) (1.4.4)\n",
      "Requirement already satisfied: packaging>=20.0 in /home/caio/miniconda3/envs/science/lib/python3.11/site-packages (from matplotlib->mediapipe) (23.1)\n",
      "Requirement already satisfied: pillow>=6.2.0 in /home/caio/miniconda3/envs/science/lib/python3.11/site-packages (from matplotlib->mediapipe) (10.0.0)\n",
      "Requirement already satisfied: pyparsing<3.1,>=2.3.1 in /home/caio/miniconda3/envs/science/lib/python3.11/site-packages (from matplotlib->mediapipe) (3.0.9)\n",
      "Requirement already satisfied: python-dateutil>=2.7 in /home/caio/miniconda3/envs/science/lib/python3.11/site-packages (from matplotlib->mediapipe) (2.8.2)\n",
      "Requirement already satisfied: pycparser in /home/caio/miniconda3/envs/science/lib/python3.11/site-packages (from CFFI>=1.0->sounddevice>=0.4.4->mediapipe) (2.21)\n",
      "Requirement already satisfied: six>=1.5 in /home/caio/miniconda3/envs/science/lib/python3.11/site-packages (from python-dateutil>=2.7->matplotlib->mediapipe) (1.16.0)\n"
     ]
    }
   ],
   "source": [
    "!pip install mediapipe"
   ]
  },
  {
   "cell_type": "code",
   "execution_count": 2,
   "metadata": {},
   "outputs": [],
   "source": [
    "from mediapipe import solutions\n",
    "from mediapipe.framework.formats import landmark_pb2\n",
    "import numpy as np\n",
    "\n",
    "MARGIN = 10  # pixels\n",
    "FONT_SIZE = 1\n",
    "FONT_THICKNESS = 1\n",
    "HANDEDNESS_TEXT_COLOR = (88, 205, 54) # vibrant green\n",
    "\n",
    "def draw_landmarks_on_image(rgb_image, detection_result):\n",
    "  hand_landmarks_list = detection_result.hand_landmarks\n",
    "  # handedness_list = detection_result.handedness\n",
    "  annotated_image = np.copy(rgb_image)\n",
    "\n",
    "  # Loop through the detected hands to visualize.\n",
    "  for idx in range(len(hand_landmarks_list)):\n",
    "    hand_landmarks = hand_landmarks_list[idx]\n",
    "    # handedness = handedness_list[idx]\n",
    "\n",
    "    # Draw the hand landmarks.\n",
    "    hand_landmarks_proto = landmark_pb2.NormalizedLandmarkList()\n",
    "    hand_landmarks_proto.landmark.extend([\n",
    "      landmark_pb2.NormalizedLandmark(x=landmark.x, y=landmark.y, z=landmark.z) for landmark in hand_landmarks\n",
    "    ])\n",
    "    solutions.drawing_utils.draw_landmarks(\n",
    "      annotated_image,\n",
    "      hand_landmarks_proto,\n",
    "      solutions.hands.HAND_CONNECTIONS,\n",
    "      solutions.drawing_styles.get_default_hand_landmarks_style(),\n",
    "      solutions.drawing_styles.get_default_hand_connections_style())\n",
    "\n",
    "    # Get the top left corner of the detected hand's bounding box.\n",
    "    height, width, _ = annotated_image.shape\n",
    "    x_coordinates = [landmark.x for landmark in hand_landmarks]\n",
    "    y_coordinates = [landmark.y for landmark in hand_landmarks]\n",
    "    text_x = int(min(x_coordinates) * width)\n",
    "    text_y = int(min(y_coordinates) * height) - MARGIN\n",
    "\n",
    "    # Draw handedness (left or right hand) on the image.\n",
    "    # cv2.putText(annotated_image, f\"{handedness[0].category_name}\",\n",
    "    #             (text_x, text_y), cv2.FONT_HERSHEY_DUPLEX,\n",
    "    #             FONT_SIZE, HANDEDNESS_TEXT_COLOR, FONT_THICKNESS, cv2.LINE_AA)\n",
    "\n",
    "  return annotated_image"
   ]
  },
  {
   "cell_type": "code",
   "execution_count": 3,
   "metadata": {},
   "outputs": [],
   "source": [
    "import cv2"
   ]
  },
  {
   "cell_type": "code",
   "execution_count": 4,
   "metadata": {},
   "outputs": [
    {
     "name": "stderr",
     "output_type": "stream",
     "text": [
      "INFO: Created TensorFlow Lite XNNPACK delegate for CPU.\n"
     ]
    }
   ],
   "source": [
    "# STEP 1: Import the necessary modules.\n",
    "import mediapipe as mp\n",
    "from mediapipe.tasks import python\n",
    "from mediapipe.tasks.python import vision\n",
    "\n",
    "# STEP 2: Create an HandLandmarker object.\n",
    "base_options = python.BaseOptions(model_asset_path='hand_landmarker.task')\n",
    "options = vision.HandLandmarkerOptions(base_options=base_options,\n",
    "                                       num_hands=2)\n",
    "detector = vision.HandLandmarker.create_from_options(options)\n",
    "\n",
    "def get_detection_result(base_options, options, detector, img_name):\n",
    "    # STEP 3: Load the input image.\n",
    "    image = mp.Image.create_from_file(img_name)\n",
    "    \n",
    "    # STEP 4: Detect hand landmarks from the input image.\n",
    "    detection_result = detector.detect(image)\n",
    "    return detection_result, image\n",
    "\n",
    "\n",
    "def calculate_score(detection_result, score, num):\n",
    "    for handedness in detection_result.handedness:\n",
    "        score += handedness[0].score\n",
    "        num += 1\n",
    "    return score, num"
   ]
  },
  {
   "cell_type": "code",
   "execution_count": 5,
   "metadata": {},
   "outputs": [],
   "source": [
    "import os"
   ]
  },
  {
   "cell_type": "code",
   "execution_count": 6,
   "metadata": {},
   "outputs": [],
   "source": [
    "directory_path = 'frames'"
   ]
  },
  {
   "cell_type": "code",
   "execution_count": 7,
   "metadata": {},
   "outputs": [
    {
     "name": "stdout",
     "output_type": "stream",
     "text": [
      "['Alergia', 'alta', 'baixa', 'Bem', 'cinco', 'Corona_Virus', 'Dengue', 'diabetes', 'doente', 'Dois', 'Emagrecer', 'engordar', 'eu', 'Exame', 'febre', 'fezes', 'Fisioterapia', 'frio', 'Gripe', 'Hospital', 'medico', 'nao', 'Normal', 'nove', 'oi', 'oito', 'pressao', 'problema', 'quatro', 'quente', 'remedio', 'Sangue', 'seis', 'sentir_mal', 'sete', 'Sim', 'Suor', 'Tonto', 'tosse', 'Três', 'um', 'urina', 'voce']\n"
     ]
    }
   ],
   "source": [
    "# Get a list of all files and directories in the specified path\n",
    "contents = os.listdir(directory_path)\n",
    "print(contents)"
   ]
  },
  {
   "cell_type": "code",
   "execution_count": 8,
   "metadata": {
    "scrolled": true
   },
   "outputs": [
    {
     "name": "stdout",
     "output_type": "stream",
     "text": [
      "Directory: Alergia\n",
      "Directory: alta\n",
      "Directory: baixa\n",
      "Directory: Bem\n",
      "Directory: cinco\n",
      "Directory: Corona_Virus\n",
      "Directory: Dengue\n",
      "Directory: diabetes\n",
      "Directory: doente\n",
      "Directory: Dois\n",
      "Directory: Emagrecer\n",
      "Directory: engordar\n",
      "Directory: eu\n",
      "Directory: Exame\n",
      "Directory: febre\n",
      "Directory: fezes\n",
      "Directory: Fisioterapia\n",
      "Directory: frio\n",
      "Directory: Gripe\n",
      "Directory: Hospital\n",
      "Directory: medico\n",
      "Directory: nao\n",
      "Directory: Normal\n",
      "Directory: nove\n",
      "Directory: oi\n",
      "Directory: oito\n",
      "Directory: pressao\n",
      "Directory: problema\n",
      "Directory: quatro\n",
      "Directory: quente\n",
      "Directory: remedio\n",
      "Directory: Sangue\n",
      "Directory: seis\n",
      "Directory: sentir_mal\n",
      "Directory: sete\n",
      "Directory: Sim\n",
      "Directory: Suor\n",
      "Directory: Tonto\n",
      "Directory: tosse\n",
      "Directory: Três\n",
      "Directory: um\n",
      "Directory: urina\n",
      "Directory: voce\n"
     ]
    }
   ],
   "source": [
    "# Iterate through the sorted directories\n",
    "\n",
    "scores_dict = {}\n",
    "\n",
    "for directory in contents:\n",
    "    print(f\"Directory: {directory}\")\n",
    "    directory_path2 = os.path.join(directory_path, directory)\n",
    "\n",
    "    # List files within the directory\n",
    "    directory_files = os.listdir(directory_path2)\n",
    "\n",
    "    os.makedirs(f\"frames_processed/{directory}\", exist_ok=True)\n",
    "\n",
    "    score = 0\n",
    "    num = 0\n",
    "\n",
    "    # Print the file names within the directory\n",
    "    for file in directory_files:\n",
    "        fullpath = f\"{directory_path2}/{file}\"\n",
    "        # STEP 5: Process the classification result. In this case, visualize it.\n",
    "        detection_result, image = get_detection_result(base_options, options, detector, fullpath)\n",
    "        annotated_image = draw_landmarks_on_image(image.numpy_view(), detection_result)\n",
    "        cv2.imwrite(f\"frames_processed/{directory}/{file}\", cv2.cvtColor(annotated_image, cv2.COLOR_RGB2BGR))\n",
    "\n",
    "        score, num = calculate_score(detection_result, score, num)\n",
    "\n",
    "    scores_dict[directory] = score / num"
   ]
  },
  {
   "cell_type": "code",
   "execution_count": null,
   "metadata": {},
   "outputs": [],
   "source": []
  }
 ],
 "metadata": {
  "kernelspec": {
   "display_name": "Python 3 (ipykernel)",
   "language": "python",
   "name": "python3"
  },
  "language_info": {
   "codemirror_mode": {
    "name": "ipython",
    "version": 3
   },
   "file_extension": ".py",
   "mimetype": "text/x-python",
   "name": "python",
   "nbconvert_exporter": "python",
   "pygments_lexer": "ipython3",
   "version": "3.11.4"
  }
 },
 "nbformat": 4,
 "nbformat_minor": 4
}
